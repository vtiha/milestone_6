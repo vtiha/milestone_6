{
 "cells": [
  {
   "cell_type": "code",
   "execution_count": 46,
   "metadata": {},
   "outputs": [
    {
     "name": "stdout",
     "output_type": "stream",
     "text": [
      "[1]\n",
      "[1, 1]\n",
      "[1, 2, 1]\n",
      "[1, 3, 3, 1]\n",
      "[1, 4, 6, 4, 1]\n",
      "\n",
      "\n",
      "    1 \n",
      "   1 1 \n",
      "  1 2 1 \n",
      " 1 3 3 1 \n",
      "1 4 6 4 1 \n"
     ]
    }
   ],
   "source": [
    "def get_triangle(rows: int):\n",
    "\n",
    "    Pascal_triangle = []\n",
    "    for i in range(rows):\n",
    "        row = [1]*(i+1) #вводимо обрамлення з одиниць, для і = 0 буде один елемент списку з 1, як і передбачає трикутник Паскаля\n",
    "\n",
    "        for j in range(1, i): #додаємо значення між одиницями\n",
    "            row[j] = Pascal_triangle[i-1][j-1]+Pascal_triangle[i-1][j] #додаємо елементи з попереднього рядка для створенні кожного елементу в новому рядку\n",
    "\n",
    "        Pascal_triangle.append(row)\n",
    "\n",
    "    for row in Pascal_triangle: #для відображення списку вертикально(перший пункт завдання)\n",
    "        print(row)\n",
    "\n",
    "    print('\\n')\n",
    "\n",
    "    for row in range(rows):\n",
    "        print(' '*(rows-row-1),end='') #додаємо пробіли перед рядками і приєднуємо їх до рядків з числами\n",
    "\n",
    "        for every_number in Pascal_triangle[row]:\n",
    "            print(every_number, end=' ') #додаємо пробіли між кожним числом трикутника\n",
    "        print()\n",
    "\n",
    "get_triangle(5)\n",
    "\n",
    "\n",
    "\n",
    "            \n",
    "\n"
   ]
  }
 ],
 "metadata": {
  "kernelspec": {
   "display_name": "Python 3",
   "language": "python",
   "name": "python3"
  },
  "language_info": {
   "codemirror_mode": {
    "name": "ipython",
    "version": 3
   },
   "file_extension": ".py",
   "mimetype": "text/x-python",
   "name": "python",
   "nbconvert_exporter": "python",
   "pygments_lexer": "ipython3",
   "version": "3.12.6"
  }
 },
 "nbformat": 4,
 "nbformat_minor": 2
}
