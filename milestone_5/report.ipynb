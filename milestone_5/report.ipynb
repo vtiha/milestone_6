{
 "cells": [
  {
   "cell_type": "code",
   "execution_count": 14,
   "metadata": {},
   "outputs": [
    {
     "name": "stdout",
     "output_type": "stream",
     "text": [
      "\n",
      "Report for October generated\n",
      "\n",
      "Birthdays\n",
      "\n",
      "Total: 7\n",
      "\n",
      "By department:\n",
      "- Sales: 2\n",
      "- R&D: 1\n",
      "- HR: 1\n",
      "- Finance: 1\n",
      "- Marketing: 2\n",
      "\n",
      "Anniversaries\n",
      "\n",
      "Total: 8\n",
      "\n",
      "By department:\n",
      "- Sales: 3\n",
      "- HR: 1\n",
      "- IT: 1\n",
      "- R&D: 1\n",
      "- Engineering: 2\n"
     ]
    }
   ],
   "source": [
    "import csv\n",
    "\n",
    "def birthday_and_anniversaries(reader, current_month):\n",
    "    birthday_count = {}\n",
    "    anniversaries_count = {}\n",
    "\n",
    "    for row in reader:\n",
    "        birthday = row['Birthday']\n",
    "        birthday_month = int(birthday[5:7])\n",
    "\n",
    "        department = row['Department']\n",
    "\n",
    "        if birthday_month == current_month:\n",
    "            if department not in birthday_count:\n",
    "                birthday_count[department]=0\n",
    "            birthday_count[department]+=1\n",
    "\n",
    "        hiring_date = row['Hiring_Date']\n",
    "        hiring_month = int(hiring_date[5:7])\n",
    "\n",
    "        if hiring_month == current_month:\n",
    "            if department not in anniversaries_count:\n",
    "                anniversaries_count[department]=0\n",
    "            anniversaries_count[department]+=1\n",
    "\n",
    "    total_birthdays = 0\n",
    "    for count in birthday_count.values():\n",
    "        total_birthdays += count\n",
    "\n",
    "    total_anniversaries = 0\n",
    "    for count in anniversaries_count.values():\n",
    "        total_anniversaries += count\n",
    "    return birthday_count, anniversaries_count\n",
    "\n",
    "with open('database.csv', mode = 'r') as file:\n",
    "    reader = csv.DictReader(file)\n",
    "\n",
    "    birthday_count, anniversaries_count = birthday_and_anniversaries(reader, 10)\n",
    "\n",
    "print(f\"\\nReport for October generated\\n\")\n",
    "print(f\"Birthdays\\n\")\n",
    "total_birthdays = sum(birthday_count.values())\n",
    "print(f\"Total: {total_birthdays}\\n\")\n",
    "print(\"By department:\")\n",
    "for department, count in birthday_count.items():\n",
    "    print(f\"- {department}: {count}\")\n",
    "\n",
    "print(f\"\\nAnniversaries\\n\")\n",
    "total_anniversaries = sum(anniversaries_count.values())\n",
    "print(f\"Total: {total_anniversaries}\\n\")\n",
    "print(\"By department:\")\n",
    "for department, count in anniversaries_count.items():\n",
    "    print(f\"- {department}: {count}\")\n",
    "                "
   ]
  }
 ],
 "metadata": {
  "kernelspec": {
   "display_name": "Python 3",
   "language": "python",
   "name": "python3"
  },
  "language_info": {
   "codemirror_mode": {
    "name": "ipython",
    "version": 3
   },
   "file_extension": ".py",
   "mimetype": "text/x-python",
   "name": "python",
   "nbconvert_exporter": "python",
   "pygments_lexer": "ipython3",
   "version": "3.12.7"
  }
 },
 "nbformat": 4,
 "nbformat_minor": 2
}
