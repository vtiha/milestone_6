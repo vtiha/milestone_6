{
 "cells": [
  {
   "cell_type": "code",
   "execution_count": 4,
   "metadata": {},
   "outputs": [],
   "source": [
    "import pandas as pd\n",
    "import numpy as np"
   ]
  },
  {
   "cell_type": "markdown",
   "metadata": {},
   "source": [
    "1) Read data from the file database.csv from milestone 5 into a data frame."
   ]
  },
  {
   "cell_type": "code",
   "execution_count": 5,
   "metadata": {},
   "outputs": [
    {
     "data": {
      "text/html": [
       "<div>\n",
       "<style scoped>\n",
       "    .dataframe tbody tr th:only-of-type {\n",
       "        vertical-align: middle;\n",
       "    }\n",
       "\n",
       "    .dataframe tbody tr th {\n",
       "        vertical-align: top;\n",
       "    }\n",
       "\n",
       "    .dataframe thead th {\n",
       "        text-align: right;\n",
       "    }\n",
       "</style>\n",
       "<table border=\"1\" class=\"dataframe\">\n",
       "  <thead>\n",
       "    <tr style=\"text-align: right;\">\n",
       "      <th></th>\n",
       "      <th>Full_Name</th>\n",
       "      <th>Hiring_Date</th>\n",
       "      <th>Department</th>\n",
       "      <th>Birthday</th>\n",
       "      <th>Phone_Number</th>\n",
       "    </tr>\n",
       "  </thead>\n",
       "  <tbody>\n",
       "    <tr>\n",
       "      <th>0</th>\n",
       "      <td>Frank Moore</td>\n",
       "      <td>2022-09-21</td>\n",
       "      <td>Sales</td>\n",
       "      <td>1961-01-16</td>\n",
       "      <td>380-9792-237-84</td>\n",
       "    </tr>\n",
       "    <tr>\n",
       "      <th>1</th>\n",
       "      <td>Angela Hopkins</td>\n",
       "      <td>2024-07-09</td>\n",
       "      <td>Sales</td>\n",
       "      <td>1960-08-18</td>\n",
       "      <td>380-9163-888-27</td>\n",
       "    </tr>\n",
       "    <tr>\n",
       "      <th>2</th>\n",
       "      <td>Wesley Carter</td>\n",
       "      <td>2022-07-02</td>\n",
       "      <td>HR</td>\n",
       "      <td>1975-02-27</td>\n",
       "      <td>380-9536-378-70</td>\n",
       "    </tr>\n",
       "    <tr>\n",
       "      <th>3</th>\n",
       "      <td>Christine Phillips</td>\n",
       "      <td>2024-04-02</td>\n",
       "      <td>Finance</td>\n",
       "      <td>1972-02-12</td>\n",
       "      <td>380-9919-264-39</td>\n",
       "    </tr>\n",
       "    <tr>\n",
       "      <th>4</th>\n",
       "      <td>Kelly Bates</td>\n",
       "      <td>2020-04-22</td>\n",
       "      <td>Engineering</td>\n",
       "      <td>1997-03-14</td>\n",
       "      <td>380-9430-452-72</td>\n",
       "    </tr>\n",
       "  </tbody>\n",
       "</table>\n",
       "</div>"
      ],
      "text/plain": [
       "            Full_Name Hiring_Date   Department    Birthday     Phone_Number\n",
       "0         Frank Moore  2022-09-21        Sales  1961-01-16  380-9792-237-84\n",
       "1      Angela Hopkins  2024-07-09        Sales  1960-08-18  380-9163-888-27\n",
       "2       Wesley Carter  2022-07-02           HR  1975-02-27  380-9536-378-70\n",
       "3  Christine Phillips  2024-04-02      Finance  1972-02-12  380-9919-264-39\n",
       "4         Kelly Bates  2020-04-22  Engineering  1997-03-14  380-9430-452-72"
      ]
     },
     "execution_count": 5,
     "metadata": {},
     "output_type": "execute_result"
    }
   ],
   "source": [
    "df = pd.read_csv('database.csv')\n",
    "df.head()"
   ]
  },
  {
   "cell_type": "markdown",
   "metadata": {},
   "source": [
    "2) Add a Salary column, which is generated randomly from -10000 to 40000"
   ]
  },
  {
   "cell_type": "code",
   "execution_count": 27,
   "metadata": {},
   "outputs": [
    {
     "data": {
      "text/html": [
       "<div>\n",
       "<style scoped>\n",
       "    .dataframe tbody tr th:only-of-type {\n",
       "        vertical-align: middle;\n",
       "    }\n",
       "\n",
       "    .dataframe tbody tr th {\n",
       "        vertical-align: top;\n",
       "    }\n",
       "\n",
       "    .dataframe thead th {\n",
       "        text-align: right;\n",
       "    }\n",
       "</style>\n",
       "<table border=\"1\" class=\"dataframe\">\n",
       "  <thead>\n",
       "    <tr style=\"text-align: right;\">\n",
       "      <th></th>\n",
       "      <th>Full_Name</th>\n",
       "      <th>Hiring_Date</th>\n",
       "      <th>Department</th>\n",
       "      <th>Birthday</th>\n",
       "      <th>Phone_Number</th>\n",
       "      <th>Salary</th>\n",
       "    </tr>\n",
       "  </thead>\n",
       "  <tbody>\n",
       "    <tr>\n",
       "      <th>0</th>\n",
       "      <td>Frank Moore</td>\n",
       "      <td>2022-09-21</td>\n",
       "      <td>Sales</td>\n",
       "      <td>1961-01-16</td>\n",
       "      <td>380-9792-237-84</td>\n",
       "      <td>32136</td>\n",
       "    </tr>\n",
       "    <tr>\n",
       "      <th>1</th>\n",
       "      <td>Angela Hopkins</td>\n",
       "      <td>2024-07-09</td>\n",
       "      <td>Sales</td>\n",
       "      <td>1960-08-18</td>\n",
       "      <td>380-9163-888-27</td>\n",
       "      <td>-4177</td>\n",
       "    </tr>\n",
       "    <tr>\n",
       "      <th>2</th>\n",
       "      <td>Wesley Carter</td>\n",
       "      <td>2022-07-02</td>\n",
       "      <td>HR</td>\n",
       "      <td>1975-02-27</td>\n",
       "      <td>380-9536-378-70</td>\n",
       "      <td>32643</td>\n",
       "    </tr>\n",
       "    <tr>\n",
       "      <th>3</th>\n",
       "      <td>Christine Phillips</td>\n",
       "      <td>2024-04-02</td>\n",
       "      <td>Finance</td>\n",
       "      <td>1972-02-12</td>\n",
       "      <td>380-9919-264-39</td>\n",
       "      <td>-8170</td>\n",
       "    </tr>\n",
       "    <tr>\n",
       "      <th>4</th>\n",
       "      <td>Kelly Bates</td>\n",
       "      <td>2020-04-22</td>\n",
       "      <td>Engineering</td>\n",
       "      <td>1997-03-14</td>\n",
       "      <td>380-9430-452-72</td>\n",
       "      <td>6608</td>\n",
       "    </tr>\n",
       "  </tbody>\n",
       "</table>\n",
       "</div>"
      ],
      "text/plain": [
       "            Full_Name Hiring_Date   Department    Birthday     Phone_Number  \\\n",
       "0         Frank Moore  2022-09-21        Sales  1961-01-16  380-9792-237-84   \n",
       "1      Angela Hopkins  2024-07-09        Sales  1960-08-18  380-9163-888-27   \n",
       "2       Wesley Carter  2022-07-02           HR  1975-02-27  380-9536-378-70   \n",
       "3  Christine Phillips  2024-04-02      Finance  1972-02-12  380-9919-264-39   \n",
       "4         Kelly Bates  2020-04-22  Engineering  1997-03-14  380-9430-452-72   \n",
       "\n",
       "   Salary  \n",
       "0   32136  \n",
       "1   -4177  \n",
       "2   32643  \n",
       "3   -8170  \n",
       "4    6608  "
      ]
     },
     "execution_count": 27,
     "metadata": {},
     "output_type": "execute_result"
    }
   ],
   "source": [
    "df['Salary'] = np.random.randint(-10000, 40001, size=len(df))\n",
    "\n",
    "df.head()"
   ]
  },
  {
   "cell_type": "markdown",
   "metadata": {},
   "source": [
    "3) Add a 'Correct salary' column with True value if Salary >= 0, else False value"
   ]
  },
  {
   "cell_type": "code",
   "execution_count": 28,
   "metadata": {},
   "outputs": [
    {
     "data": {
      "text/html": [
       "<div>\n",
       "<style scoped>\n",
       "    .dataframe tbody tr th:only-of-type {\n",
       "        vertical-align: middle;\n",
       "    }\n",
       "\n",
       "    .dataframe tbody tr th {\n",
       "        vertical-align: top;\n",
       "    }\n",
       "\n",
       "    .dataframe thead th {\n",
       "        text-align: right;\n",
       "    }\n",
       "</style>\n",
       "<table border=\"1\" class=\"dataframe\">\n",
       "  <thead>\n",
       "    <tr style=\"text-align: right;\">\n",
       "      <th></th>\n",
       "      <th>Full_Name</th>\n",
       "      <th>Hiring_Date</th>\n",
       "      <th>Department</th>\n",
       "      <th>Birthday</th>\n",
       "      <th>Phone_Number</th>\n",
       "      <th>Salary</th>\n",
       "      <th>Correct salary</th>\n",
       "    </tr>\n",
       "  </thead>\n",
       "  <tbody>\n",
       "    <tr>\n",
       "      <th>0</th>\n",
       "      <td>Frank Moore</td>\n",
       "      <td>2022-09-21</td>\n",
       "      <td>Sales</td>\n",
       "      <td>1961-01-16</td>\n",
       "      <td>380-9792-237-84</td>\n",
       "      <td>32136</td>\n",
       "      <td>True</td>\n",
       "    </tr>\n",
       "    <tr>\n",
       "      <th>1</th>\n",
       "      <td>Angela Hopkins</td>\n",
       "      <td>2024-07-09</td>\n",
       "      <td>Sales</td>\n",
       "      <td>1960-08-18</td>\n",
       "      <td>380-9163-888-27</td>\n",
       "      <td>-4177</td>\n",
       "      <td>False</td>\n",
       "    </tr>\n",
       "    <tr>\n",
       "      <th>2</th>\n",
       "      <td>Wesley Carter</td>\n",
       "      <td>2022-07-02</td>\n",
       "      <td>HR</td>\n",
       "      <td>1975-02-27</td>\n",
       "      <td>380-9536-378-70</td>\n",
       "      <td>32643</td>\n",
       "      <td>True</td>\n",
       "    </tr>\n",
       "    <tr>\n",
       "      <th>3</th>\n",
       "      <td>Christine Phillips</td>\n",
       "      <td>2024-04-02</td>\n",
       "      <td>Finance</td>\n",
       "      <td>1972-02-12</td>\n",
       "      <td>380-9919-264-39</td>\n",
       "      <td>-8170</td>\n",
       "      <td>False</td>\n",
       "    </tr>\n",
       "    <tr>\n",
       "      <th>4</th>\n",
       "      <td>Kelly Bates</td>\n",
       "      <td>2020-04-22</td>\n",
       "      <td>Engineering</td>\n",
       "      <td>1997-03-14</td>\n",
       "      <td>380-9430-452-72</td>\n",
       "      <td>6608</td>\n",
       "      <td>True</td>\n",
       "    </tr>\n",
       "  </tbody>\n",
       "</table>\n",
       "</div>"
      ],
      "text/plain": [
       "            Full_Name Hiring_Date   Department    Birthday     Phone_Number  \\\n",
       "0         Frank Moore  2022-09-21        Sales  1961-01-16  380-9792-237-84   \n",
       "1      Angela Hopkins  2024-07-09        Sales  1960-08-18  380-9163-888-27   \n",
       "2       Wesley Carter  2022-07-02           HR  1975-02-27  380-9536-378-70   \n",
       "3  Christine Phillips  2024-04-02      Finance  1972-02-12  380-9919-264-39   \n",
       "4         Kelly Bates  2020-04-22  Engineering  1997-03-14  380-9430-452-72   \n",
       "\n",
       "   Salary  Correct salary  \n",
       "0   32136            True  \n",
       "1   -4177           False  \n",
       "2   32643            True  \n",
       "3   -8170           False  \n",
       "4    6608            True  "
      ]
     },
     "execution_count": 28,
     "metadata": {},
     "output_type": "execute_result"
    }
   ],
   "source": [
    "df['Correct salary'] = df['Salary'] >= 0\n",
    "df.head()"
   ]
  },
  {
   "cell_type": "markdown",
   "metadata": {},
   "source": [
    "4) If the Salary column in the data frame is < 0, change to 0"
   ]
  },
  {
   "cell_type": "code",
   "execution_count": 29,
   "metadata": {},
   "outputs": [
    {
     "data": {
      "text/html": [
       "<div>\n",
       "<style scoped>\n",
       "    .dataframe tbody tr th:only-of-type {\n",
       "        vertical-align: middle;\n",
       "    }\n",
       "\n",
       "    .dataframe tbody tr th {\n",
       "        vertical-align: top;\n",
       "    }\n",
       "\n",
       "    .dataframe thead th {\n",
       "        text-align: right;\n",
       "    }\n",
       "</style>\n",
       "<table border=\"1\" class=\"dataframe\">\n",
       "  <thead>\n",
       "    <tr style=\"text-align: right;\">\n",
       "      <th></th>\n",
       "      <th>Full_Name</th>\n",
       "      <th>Hiring_Date</th>\n",
       "      <th>Department</th>\n",
       "      <th>Birthday</th>\n",
       "      <th>Phone_Number</th>\n",
       "      <th>Salary</th>\n",
       "      <th>Correct salary</th>\n",
       "    </tr>\n",
       "  </thead>\n",
       "  <tbody>\n",
       "    <tr>\n",
       "      <th>0</th>\n",
       "      <td>Frank Moore</td>\n",
       "      <td>2022-09-21</td>\n",
       "      <td>Sales</td>\n",
       "      <td>1961-01-16</td>\n",
       "      <td>380-9792-237-84</td>\n",
       "      <td>32136</td>\n",
       "      <td>True</td>\n",
       "    </tr>\n",
       "    <tr>\n",
       "      <th>1</th>\n",
       "      <td>Angela Hopkins</td>\n",
       "      <td>2024-07-09</td>\n",
       "      <td>Sales</td>\n",
       "      <td>1960-08-18</td>\n",
       "      <td>380-9163-888-27</td>\n",
       "      <td>0</td>\n",
       "      <td>False</td>\n",
       "    </tr>\n",
       "    <tr>\n",
       "      <th>2</th>\n",
       "      <td>Wesley Carter</td>\n",
       "      <td>2022-07-02</td>\n",
       "      <td>HR</td>\n",
       "      <td>1975-02-27</td>\n",
       "      <td>380-9536-378-70</td>\n",
       "      <td>32643</td>\n",
       "      <td>True</td>\n",
       "    </tr>\n",
       "    <tr>\n",
       "      <th>3</th>\n",
       "      <td>Christine Phillips</td>\n",
       "      <td>2024-04-02</td>\n",
       "      <td>Finance</td>\n",
       "      <td>1972-02-12</td>\n",
       "      <td>380-9919-264-39</td>\n",
       "      <td>0</td>\n",
       "      <td>False</td>\n",
       "    </tr>\n",
       "    <tr>\n",
       "      <th>4</th>\n",
       "      <td>Kelly Bates</td>\n",
       "      <td>2020-04-22</td>\n",
       "      <td>Engineering</td>\n",
       "      <td>1997-03-14</td>\n",
       "      <td>380-9430-452-72</td>\n",
       "      <td>6608</td>\n",
       "      <td>True</td>\n",
       "    </tr>\n",
       "  </tbody>\n",
       "</table>\n",
       "</div>"
      ],
      "text/plain": [
       "            Full_Name Hiring_Date   Department    Birthday     Phone_Number  \\\n",
       "0         Frank Moore  2022-09-21        Sales  1961-01-16  380-9792-237-84   \n",
       "1      Angela Hopkins  2024-07-09        Sales  1960-08-18  380-9163-888-27   \n",
       "2       Wesley Carter  2022-07-02           HR  1975-02-27  380-9536-378-70   \n",
       "3  Christine Phillips  2024-04-02      Finance  1972-02-12  380-9919-264-39   \n",
       "4         Kelly Bates  2020-04-22  Engineering  1997-03-14  380-9430-452-72   \n",
       "\n",
       "   Salary  Correct salary  \n",
       "0   32136            True  \n",
       "1       0           False  \n",
       "2   32643            True  \n",
       "3       0           False  \n",
       "4    6608            True  "
      ]
     },
     "execution_count": 29,
     "metadata": {},
     "output_type": "execute_result"
    }
   ],
   "source": [
    "df['Salary'] = df['Salary'].clip(lower=0)\n",
    "df.head()"
   ]
  },
  {
   "cell_type": "markdown",
   "metadata": {},
   "source": [
    "5) Save the new data frame to file database_with_salary.csv"
   ]
  },
  {
   "cell_type": "code",
   "execution_count": 30,
   "metadata": {},
   "outputs": [],
   "source": [
    "df.to_csv('database_with_salary.csv', index=False)"
   ]
  },
  {
   "cell_type": "markdown",
   "metadata": {},
   "source": [
    "6) For each \"Department\" sum the \"Salary\" and create a bar chart with all departments and the total salary"
   ]
  },
  {
   "cell_type": "code",
   "execution_count": 32,
   "metadata": {},
   "outputs": [
    {
     "data": {
      "text/plain": [
       "<Axes: title={'center': 'Total Salary by Department'}, xlabel='Department', ylabel='Total Salary'>"
      ]
     },
     "execution_count": 32,
     "metadata": {},
     "output_type": "execute_result"
    },
    {
     "data": {
      "image/png": "[encoded data removed]",
      "text/plain": [
       "<Figure size 640x480 with 1 Axes>"
      ]
     },
     "metadata": {},
     "output_type": "display_data"
    }
   ],
   "source": [
    "salary_by_department = df.groupby('Department')['Salary'].sum()\n",
    "salary_by_department.plot(kind='bar', title='Total Salary by Department', xlabel='Department', ylabel='Total Salary')"
   ]
  }
 ],
 "metadata": {
  "kernelspec": {
   "display_name": "Python 3",
   "language": "python",
   "name": "python3"
  },
  "language_info": {
   "codemirror_mode": {
    "name": "ipython",
    "version": 3
   },
   "file_extension": ".py",
   "mimetype": "text/x-python",
   "name": "python",
   "nbconvert_exporter": "python",
   "pygments_lexer": "ipython3",
   "version": "3.12.7"
  }
 },
 "nbformat": 4,
 "nbformat_minor": 2
}
