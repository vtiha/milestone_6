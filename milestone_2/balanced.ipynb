{
 "cells": [
  {
   "cell_type": "code",
   "execution_count": 20,
   "metadata": {},
   "outputs": [
    {
     "name": "stdout",
     "output_type": "stream",
     "text": [
      "True\n",
      "False\n",
      "False\n",
      "False\n"
     ]
    }
   ],
   "source": [
    "def is_balanced(some_text):\n",
    "    \n",
    "    balance = 0\n",
    "    for parenthesis in some_text:\n",
    "        if parenthesis=='(': \n",
    "            balance+=1\n",
    "        elif parenthesis==')': \n",
    "            balance-=1\n",
    "            if balance<0:\n",
    "                return False\n",
    "    return balance==0\n",
    "\n",
    "print(is_balanced('()'))  # True\n",
    "print(is_balanced('())'))  # False\n",
    "print(is_balanced('(()'))  # False\n",
    "print(is_balanced(')())'))  # False\n"
   ]
  }
 ],
 "metadata": {
  "kernelspec": {
   "display_name": "Python 3",
   "language": "python",
   "name": "python3"
  },
  "language_info": {
   "codemirror_mode": {
    "name": "ipython",
    "version": 3
   },
   "file_extension": ".py",
   "mimetype": "text/x-python",
   "name": "python",
   "nbconvert_exporter": "python",
   "pygments_lexer": "ipython3",
   "version": "3.12.6"
  }
 },
 "nbformat": 4,
 "nbformat_minor": 2
}
