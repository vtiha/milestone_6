{
 "cells": [
  {
   "cell_type": "code",
   "execution_count": 6,
   "metadata": {},
   "outputs": [
    {
     "name": "stdout",
     "output_type": "stream",
     "text": [
      "Result:  Lasy day number 1\n"
     ]
    }
   ],
   "source": [
    "def need_to_decrypt(key, crypt):\n",
    "    decrypted_massage=''\n",
    "\n",
    "    for symbol in crypt:\n",
    "        match symbol:\n",
    "            case symbol if 'A'<=symbol<='Z':\n",
    "                decrypt_symbol=chr((ord(symbol)-ord('A')-key)%26+ord('A'))\n",
    "            case symbol if 'a'<=symbol<='z':\n",
    "                decrypt_symbol=chr((ord(symbol)-ord('a')-key)%26+ord('a'))\n",
    "            case symbol if 'А'<=symbol<='А':\n",
    "                decrypt_symbol=chr((ord(symbol)-ord('А')-key)%32+ord('А'))\n",
    "            case symbol if 'а'<=symbol<='а':\n",
    "                decrypt_symbol=chr((ord(symbol)-ord('а')-key)%26+ord('а'))\n",
    "            case _:\n",
    "                decrypt_symbol=symbol\n",
    "\n",
    "        decrypted_massage+=decrypt_symbol\n",
    "\n",
    "    return decrypted_massage\n",
    "\n",
    "key = int(input('Enter key: '))\n",
    "crypt = input('Enter crypt: ')\n",
    "decrypted_massage=need_to_decrypt(key, crypt)\n",
    "print('Result: ', decrypted_massage)\n",
    " "
   ]
  }
 ],
 "metadata": {
  "kernelspec": {
   "display_name": "Python 3",
   "language": "python",
   "name": "python3"
  },
  "language_info": {
   "codemirror_mode": {
    "name": "ipython",
    "version": 3
   },
   "file_extension": ".py",
   "mimetype": "text/x-python",
   "name": "python",
   "nbconvert_exporter": "python",
   "pygments_lexer": "ipython3",
   "version": "3.12.6"
  }
 },
 "nbformat": 4,
 "nbformat_minor": 2
}
