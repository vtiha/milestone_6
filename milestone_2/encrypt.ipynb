{
 "cells": [
  {
   "cell_type": "code",
   "execution_count": 9,
   "metadata": {},
   "outputs": [
    {
     "name": "stdout",
     "output_type": "stream",
     "text": [
      "Result:  Mbtz ebz ovncfs 1\n"
     ]
    }
   ],
   "source": [
    "def need_to_crypt(key, some_message):\n",
    "    encrypted_message='' #оголошуємо змінну куди буде збиратись нове повідомлення\n",
    "    \n",
    "    for symbol in some_message:\n",
    "        match symbol:\n",
    "            case symbol if 'A'<=symbol<='Z': #перевірка для великих латинських літер\n",
    "                new_symbol=chr((ord(symbol)-ord('A')+key)%26+ord('A')) #робимо запит до кодів літер через char(), через ord() повертаємо коду його букву, також застосовуємо модульну математику для останніх літер алфавіту\n",
    "            case symbol if 'a'<=symbol<='z':\n",
    "                new_symbol=chr((ord(symbol)-ord('a')+key)%26+ord('a'))\n",
    "            case symbol if 'А'<=symbol<='Я':                           #також повідолення можна написати кириличними буквами\n",
    "                new_symbol=chr((ord(symbol)-ord('А')+key)%32+ord('А')) \n",
    "            case symbol if 'а'<=symbol<='я':\n",
    "                new_symbol=chr((ord(symbol)-ord('а')+key)%32+ord('а'))\n",
    "            case _:\n",
    "                new_symbol=symbol                                      #всі інші символи збираються окремо\n",
    "\n",
    "        encrypted_message+=new_symbol\n",
    "\n",
    "    return encrypted_message\n",
    "\n",
    "key = int(input('Enter key: '))\n",
    "some_message = input('Enter message: ')\n",
    "encrypted_message = need_to_crypt(key, some_message)                   # викликаємо нашу функцію, щоб прінт міг відпрацювати\n",
    "print('Result: ', encrypted_message)\n"
   ]
  }
 ],
 "metadata": {
  "kernelspec": {
   "display_name": "Python 3",
   "language": "python",
   "name": "python3"
  },
  "language_info": {
   "codemirror_mode": {
    "name": "ipython",
    "version": 3
   },
   "file_extension": ".py",
   "mimetype": "text/x-python",
   "name": "python",
   "nbconvert_exporter": "python",
   "pygments_lexer": "ipython3",
   "version": "3.12.6"
  }
 },
 "nbformat": 4,
 "nbformat_minor": 2
}
