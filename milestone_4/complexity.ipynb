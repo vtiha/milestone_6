{
 "cells": [
  {
   "cell_type": "code",
   "execution_count": 1,
   "metadata": {},
   "outputs": [],
   "source": [
    "from typing import List, Tuple"
   ]
  },
  {
   "cell_type": "code",
   "execution_count": 2,
   "metadata": {},
   "outputs": [],
   "source": [
    "def find_sum(target: int, li: List[int]) -> Tuple[int, int]:\n",
    "\n",
    "    for i in range(len(li)):\n",
    "        for j in range(i+1, len(li)):\n",
    "            if li[i]+li[j]==target:\n",
    "                return i,j\n",
    "\n",
    "assert find_sum(5, [1, 2, 3, 4, 5]) in {(0, 3), (1, 2)} #умова виконується"
   ]
  },
  {
   "cell_type": "markdown",
   "metadata": {},
   "source": [
    "користуючись brute-force manner маємо complexity O(n**2)"
   ]
  },
  {
   "cell_type": "code",
   "execution_count": 3,
   "metadata": {},
   "outputs": [],
   "source": [
    "def find_sum_fast(target: int, li: List[int]) -> Tuple[int, int]:\n",
    "    \n",
    "   numbers_dict = {}\n",
    "\n",
    "   for index, number in enumerate(li):\n",
    "      if target - number in numbers_dict:\n",
    "         return (numbers_dict[target - number], index)\n",
    "      \n",
    "      numbers_dict[number] = index\n",
    "\n",
    "assert find_sum_fast(5, [1, 2, 3, 4, 5]) in {(0, 3), (1, 2)} #умова виконується\n",
    "\n",
    "\n"
   ]
  },
  {
   "cell_type": "markdown",
   "metadata": {},
   "source": [
    "користуючись trading space for time маємо complexity O(n)"
   ]
  }
 ],
 "metadata": {
  "kernelspec": {
   "display_name": "Python 3",
   "language": "python",
   "name": "python3"
  },
  "language_info": {
   "codemirror_mode": {
    "name": "ipython",
    "version": 3
   },
   "file_extension": ".py",
   "mimetype": "text/x-python",
   "name": "python",
   "nbconvert_exporter": "python",
   "pygments_lexer": "ipython3",
   "version": "3.12.7"
  }
 },
 "nbformat": 4,
 "nbformat_minor": 2
}
